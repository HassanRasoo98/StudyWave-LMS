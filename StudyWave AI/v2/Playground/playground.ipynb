{
 "cells": [
  {
   "cell_type": "markdown",
   "metadata": {},
   "source": [
    "### Playground file to experiment with different modules of the SEEKHO AI"
   ]
  },
  {
   "cell_type": "markdown",
   "metadata": {},
   "source": [
    "Working modules experimented here make it to the final product"
   ]
  },
  {
   "cell_type": "code",
   "execution_count": 17,
   "metadata": {},
   "outputs": [
    {
     "name": "stdout",
     "output_type": "stream",
     "text": [
      " Thanks to Wix for supporting PBS Digital Studios. Hey, I'm Jabruro and welcome to Crash Course AI. So far in the series, we focused on artificial intelligence that uses supervised learning. These programs need a teacher to use labeled data to tell them right from wrong. And we humans have places where supervised learning happens, like classrooms with teachers. But that's not the only way we learn. We can also learn lots of things on our own by finding patterns in the world. We can look at dogs and elephants and know they're different animals without anyone telling us. Or we can even figure out the rules of a sport just by watching other people play. This kind of learning without a teacher is called unsupervised learning. And in some cases, computers can do it too. The key difference between supervised and unsupervised learning is what we're trying to predict. In supervised learning, we're trying to build a model to predict an answer or label provided by a teacher. In unsupervised learning, instead of a teacher, the world around us is basically providing training labels. For example, if I freeze this video of a tennis ball right now, can you draw what could be the next frame? Unsupervised learning is about modeling the world by guessing like this. And it's useful because we don't need labels provided by a teacher. Babies do a lot of unsupervised learning by watching and imitating people. And we'd like computers to be able to learn like this as well. This lets us utilize lots of freely available data in the world or on the internet. In many cases, one of the easiest ways to understand how AI can use unsupervised learning is by doing it ourselves. So let's look at a few photos of flowers with no labels. The most basic way to model the world is to assume that it's made up of distinct groups of objects that share properties. So, for example, how many types of flowers are here? We can say there are two because there are two colors, purple and yellow. Or we can look at the petal shapes and divide them into round petals and tall vertical ones. Or maybe we have some more experience with flowers and realize that two of these are tulips, one is a sunflower, and the last one is a daisy. So there are three categories. Immediately recognizing different properties like this and creating categories is called unsupervised clustering. We don't have labels provided by a teacher, but we do have a key assumption about the world that we're modeling. Certain objects are more similar to each other than others. We can program computers to perform clustering. But to do that, we need to choose a few properties of flowers we're interested in looking at, like how we picked color or shape just now. For a more realistic example, let's say I bought a packet of iris seeds to plant in my garden. After the flowers bloom, though, it looks like there were several different species of irises mixed up in that one packet. Now, I'm no expert gardener, but I can use some AI to help me analyze my garden. To construct the model, we have to answer two key questions. First, what observation can we measure? All of these flowers are purple, so that's probably not the best way to tell them apart. But different irises seem to have different petal lengths and widths, which we can measure and place on this graph with petal length on the y-axis and width on the x-axis. And second, how do we want to represent the world? We're going to stick to a very simple assumption here. There are clusters in our data. Specifically, we're going to say there are some number of groups called K clusters, but we don't know where they are. To help us, we're going to use the K-means clustering algorithm. K-means clustering is a simple algorithm. All it needs is a way to compare observations, a way to guess how many clusters exist in the data, and a way to calculate averages for each cluster it predicts. In particular, we want to calculate the mean by adding up all data points in a cluster and dividing by the total number of points. Remember, unsupervised learning is about modeling the world, so our algorithm will have two steps. First, our AI will predict. What does the model expect the world to look like? In other words, which flowers should be clustered together because they're the same species? Second, our AI will correct or learn. The model will update its belief to agree with its observation of the world. To start the process, we have to specify how many clusters the model should look for. I'm guessing there are three clusters in the data, so that becomes the model's initial understanding of the world. And we're looking for K equals 3 averages or 3 types of viruses. But to start, our model doesn't really know anything. So the averages are random and so are its predictions. Each data point, which is a flower, is given a label as type 1, type 2, or type 3. Based on the algorithm's beliefs. Next, our model tries to correct itself. The average of each cluster of data points should be in the middle. So the model corrects itself by calculating new averages. We can see those averages here, marked with X's, which gives us an updated model of the three, or so we guessed, types of viruses. But the graph is still pretty noisy. For example, it's a little weird that we have type 2 flowers so close to the average for type 3 flowers. But we did start with a random model, so we can't expect too much accuracy. Logically, we know that irises of the same species tend to have similar petals. So those data points should be clustered together. Since we did a correction or learning step, we can repeat the process, starting with a new prediction step. Let's predict new labels using the X's that mark the averages of each label. We'll give each data point the label of its closest X. Type 1, type 2, or type 3. And then we'll calculate new averages. Ah, that's better. But still not the cleanest clusters. So we can repeat the process again. Predict, learn, predict, learn. Eventually, the X's will stop moving and we will have a model of iris clusters created with unsupervised learning. Now, the ultimate question is, did we find meaningful patterns about the world with our AI? We made an assumption that there were three types of irises and we assumed that they had different petal lengths and widths. Was this true? Lucky for us, I have a friend who is a master gardener. I showed him the real life flowers closest to each of the three averages and he said that type 1 is versicolor, type 2 is satosa, and type 3 is virginica. Three different iris species. We learned about the world from observation, which is what makes this unsupervised learning. Even though we relied a tiny bit on a teacher, the master gardener, for confirmation and help. Now that we've learned the basics, we can experiment with harder examples. Let's say we want to use unsupervised learning to sort a bunch of different photos, and not just three iris species. First, what observations can we measure? How much green there is, whether there's a nose and fur? To have a computer make these observations, we need to measure thousands of red, green, and blue pixels in each image. Second, how do we want to represent the world? Before, we were only working with two features, so we could just use the averages of the cluster data points and get meaningful extraction from it. But when dealing with images, we can't use the same method, because we won't get much meaning out of averaging colored pixels for what we want to accomplish. Somehow, we need the model to create a representation that tells us if two images are similar. There are meaningful patterns in the data that are more abstract than individual pixels, and finding them across many images is what's called representation learning. These patterns help us understand what's in the images and how to compare them to each other. Representation learning happens both in supervised and unsupervised learning models, so we can do it with or without labels to find patterns in the world. To understand the basic idea of representation learning, check out this experiment. I'm going to look at a picture really fast and then try and draw it. Ready, set, go. My eyes took in the picture and remembered important features, so I'm building a representation in my mind. But I can't just show you my thoughts to get feedback on what parts I misremembered, so I have to produce a reconstruction or draw the original image from my memory. Alright, so this is what I've got. Now let's compare my drawing to the original image. Let's see, round plate, triangle slice of pizza, some cheese, some crust, tablecloth. Pretty good. For an AI, making a reconstruction would mean producing all the right pixel values to make a reconstruction. Arcane means clustering algorithm from before predicted classes for flowers based on how close the data points were to the averages. For images, we will have learned image representations instead of averages. After that step, just like before, the AI will have to correct itself. Previously, we updated the K clusters based on how well our predicted labels fit the data, but for images, we'd have to update the model's internal representations based on its reconstructions. There are different ways to use unsupervised learning in combination with representation learning so that an AI can compare images. Like for example, there's a type of neural network called an autoencoder, which uses the same basic principles of weights and biases to process inputs, pass data onto the hidden layers, and finally to a prediction output layer. If John Greenbott was programmed with an autoencoder, the input would be an image, the hidden layers would contain representations, and the output would be a full reconstruction of the original image. Which gets more accurate the more we train this AI. Theoretically, I could give John Greenbott a representation of a pizza and he could reconstruct the original pizza image. What's so powerful about unsupervised learning is that the world is our teacher. By looking around, taking in a lot of data, and predicting what we'll see next, we learn about how the world works and how it should be represented. When asked how AI will fulfill its grand ambitions, 2018 Turing Award winning professor, Jan LeCun said, we all know that unsupervised learning is the ultimate answer. So, I guess we better keep working on it. Unsupervised learning is a huge area of active research. The human brain is specially designed for this kind of learning and has different parts for vision, language, movement, and so on. These structures and what kinds of patterns our brains look for were developed over billions of years of evolution. But it's really tricky to build an AI that does unsupervised learning well, because AI systems can't learn exactly like humans often do, just by watching and imitating. Someone like us has to design the models and tell them how to look for patterns before turning them loose. Next time, we'll look at applying similar concepts to AI systems that find patterns in words and language and what's called natural language processing. See you then. Thanks to Wix for supporting PBS Digital Studios. Check out Wix.com if you're looking to make your own website. Wix is a platform that allows you to build a personalized website for almost any purpose, from promoting your business or creating an online shop to giving you a place for you to test out new ideas. Their technology allows you to create something unique no matter your skill level with templates and all-in-one management. If you'd like to check it out, you can go to wix.com.com. Go slash crash course or click the link in the description. Crash Course AI is produced in association with PBS Digital Studios. If you want to help keep Crash Course free for everyone forever, you can join our community on Patreon. And if you want to learn more about the math behind K-Means clustering, check out this video from Crash Course Statistics.\n"
     ]
    }
   ],
   "source": [
    "from segmentation import segment_paragraphs\n",
    "\n",
    "text = str()\n",
    "with open(r'C:\\Users\\Guestt\\Documents\\GitHub\\Seekho\\Seekho AI\\v2\\Results\\transcribed_audio.txt', 'r') as f:\n",
    "    for line in f:\n",
    "        text += line\n",
    "        \n",
    "print(text)"
   ]
  },
  {
   "cell_type": "code",
   "execution_count": 18,
   "metadata": {},
   "outputs": [],
   "source": [
    "a = segment_paragraphs(text)"
   ]
  },
  {
   "cell_type": "code",
   "execution_count": 19,
   "metadata": {},
   "outputs": [
    {
     "name": "stdout",
     "output_type": "stream",
     "text": [
      "15\n",
      " Thanks to Wix for supporting PBS Digital Studios. Hey, I'm Jabruro and welcome to Crash Course AI. So far in the series, we focused on artificial intelligence that uses supervised learning. These programs need a teacher to use labeled data to tell them right from wrong. And we humans have places where supervised learning happens, like classrooms with teachers. But that's not the only way we learn. We can also learn lots of things on our own by finding patterns in the world. We can look at dogs and elephants and know they're different animals without anyone telling us. Or we can even figure out the rules of a sport just by watching other people play. This kind of learning without a teacher is called unsupervised learning. \n"
     ]
    }
   ],
   "source": [
    "paragraphs = a.split('\\n\\t')\n",
    "print(len(paragraphs))\n",
    "\n",
    "for paragraph in paragraphs:    \n",
    "    print(paragraph)\n",
    "    break"
   ]
  },
  {
   "cell_type": "code",
   "execution_count": 7,
   "metadata": {},
   "outputs": [],
   "source": [
    "with open('segemnted.txt', 'w') as f:\n",
    "    f.writelines(a)"
   ]
  },
  {
   "cell_type": "code",
   "execution_count": 21,
   "metadata": {},
   "outputs": [
    {
     "name": "stdout",
     "output_type": "stream",
     "text": [
      "1. What type of artificial intelligence learning uses supervised learning?\n",
      "A. Learning with a teacher\n",
      "B. Learning without a teacher\n",
      "C. Learning with labeled data\n",
      "*D. Learning with a teacher using labeled data\n",
      "\n",
      "2. Where does supervised learning typically happen for humans?\n",
      "A. Zoos\n",
      "B. Libraries\n",
      "*C. Classrooms with teachers\n",
      "D. Parks\n",
      "\n",
      "3. What is the term for learning without a teacher in artificial intelligence?\n",
      "A. Supervised learning\n",
      "B. Labeled learning\n",
      "*C. Unsupervised learning\n",
      "D. Teacherless learning\n",
      "\n",
      "4. How do humans learn to distinguish between different animals like dogs and elephants?\n",
      "A. By reading books\n",
      "*B. By finding patterns in the world\n",
      "C. By attending classes\n"
     ]
    }
   ],
   "source": [
    "from utils import get_mcq\n",
    "\n",
    "\n",
    "temp = get_mcq(paragraph)"
   ]
  },
  {
   "cell_type": "code",
   "execution_count": 22,
   "metadata": {},
   "outputs": [
    {
     "name": "stdout",
     "output_type": "stream",
     "text": [
      "1. What type of artificial intelligence learning uses supervised learning?\n",
      "A. Learning with a teacher\n",
      "B. Learning without a teacher\n",
      "C. Learning with labeled data\n",
      "*D. Learning with a teacher using labeled data\n",
      "\n",
      "2. Where does supervised learning typically happen for humans?\n",
      "A. Zoos\n",
      "B. Libraries\n",
      "*C. Classrooms with teachers\n",
      "D. Parks\n",
      "\n",
      "3. What is the term for learning without a teacher in artificial intelligence?\n",
      "A. Supervised learning\n",
      "B. Labeled learning\n",
      "*C. Unsupervised learning\n",
      "D. Teacherless learning\n",
      "\n",
      "4. How do humans learn to distinguish between different animals like dogs and elephants?\n",
      "A. By reading books\n",
      "*B. By finding patterns in the world\n",
      "C. By attending classes\n"
     ]
    }
   ],
   "source": [
    "print(temp)"
   ]
  },
  {
   "cell_type": "code",
   "execution_count": 20,
   "metadata": {},
   "outputs": [
    {
     "data": {
      "text/plain": [
       "\" Thanks to Wix for supporting PBS Digital Studios. Hey, I'm Jabruro and welcome to Crash Course AI. So far in the series, we focused on artificial intelligence that uses supervised learning. These programs need a teacher to use labeled data to tell them right from wrong. And we humans have places where supervised learning happens, like classrooms with teachers. But that's not the only way we learn. We can also learn lots of things on our own by finding patterns in the world. We can look at dogs and elephants and know they're different animals without anyone telling us. Or we can even figure out the rules of a sport just by watching other people play. This kind of learning without a teacher is called unsupervised learning. \""
      ]
     },
     "execution_count": 20,
     "metadata": {},
     "output_type": "execute_result"
    }
   ],
   "source": [
    "paragraph"
   ]
  },
  {
   "cell_type": "code",
   "execution_count": 21,
   "metadata": {},
   "outputs": [],
   "source": [
    "import os\n",
    "import openai\n",
    "from dotenv import load_dotenv\n",
    "\n",
    "load_dotenv()\n",
    "\n",
    "key = os.getenv('OPENAI_API_KEY')\n",
    "openai.api_key = key"
   ]
  },
  {
   "cell_type": "code",
   "execution_count": 22,
   "metadata": {},
   "outputs": [
    {
     "name": "stdout",
     "output_type": "stream",
     "text": [
      "{\"questions\": [{\"question\": \"What type of artificial intelligence has the series Crash Course AI primarily focused on?\", \"options\": [\"Unsupervised learning\", \"Reinforcement learning\", \"Supervised learning\", \"Semi-supervised learning\"], \"answer\": \"Supervised learning\"}]}\n"
     ]
    }
   ],
   "source": [
    "import json\n",
    "\n",
    "\n",
    "example_json = {\n",
    "    \"questions\": [\n",
    "        {\n",
    "            \"question\": \"What type of artificial intelligence has the series Crash Course AI primarily focused on?\",\n",
    "            \"options\": [\n",
    "                \"Unsupervised learning\",\n",
    "                \"Reinforcement learning\",\n",
    "                \"Supervised learning\",\n",
    "                \"Semi-supervised learning\"\n",
    "            ],\n",
    "            \"answer\": \"Supervised learning\"\n",
    "        }\n",
    "    ]\n",
    "}\n",
    "\n",
    "print(json.dumps(example_json))"
   ]
  },
  {
   "cell_type": "code",
   "execution_count": 23,
   "metadata": {},
   "outputs": [],
   "source": [
    "response = openai.ChatCompletion.create(\n",
    "    model=\"gpt-3.5-turbo-0125\",\n",
    "\n",
    "    messages=[\n",
    "        # {\"role\": \"system\", \"content\": \"You are a helpful assistant designed to generate technical/logical MCQs from a paragraph and output JSON.\"},\n",
    "        {\"role\": \"system\", \"content\": f\"Provide output in valid JSON. The data schema should be like this: {json.dumps(example_json)}\"},\n",
    "        {\"role\": \"user\", \"content\": f\"Generate technical/logical MCQs from the given paragraph and output JSON. Paragraph: {paragraph}\"}\n",
    "    ],\n",
    "\n",
    "    response_format = {\"type\": \"json_object\"}\n",
    ")\n",
    "\n",
    "\n",
    "reply = response['choices'][0]['message']['content']\n",
    "finish_reason = response['choices'][0]['finish_reason']\n",
    "if not finish_reason == \"stop\":\n",
    "    print('An error occured')"
   ]
  },
  {
   "cell_type": "code",
   "execution_count": 24,
   "metadata": {},
   "outputs": [
    {
     "data": {
      "text/plain": [
       "<OpenAIObject chat.completion id=chatcmpl-9Ycmq0uqUgX7SuW4FWwmAJgwc8OxN at 0x2189fdca2d0> JSON: {\n",
       "  \"id\": \"chatcmpl-9Ycmq0uqUgX7SuW4FWwmAJgwc8OxN\",\n",
       "  \"object\": \"chat.completion\",\n",
       "  \"created\": 1718039276,\n",
       "  \"model\": \"gpt-3.5-turbo-0125\",\n",
       "  \"choices\": [\n",
       "    {\n",
       "      \"index\": 0,\n",
       "      \"message\": {\n",
       "        \"role\": \"assistant\",\n",
       "        \"content\": \"{\\n    \\\"questions\\\": [\\n        {\\n            \\\"question\\\": \\\"What type of artificial intelligence has the series Crash Course AI primarily focused on?\\\",\\n            \\\"options\\\": [\\\"Unsupervised learning\\\", \\\"Reinforcement learning\\\", \\\"Supervised learning\\\", \\\"Semi-supervised learning\\\"],\\n            \\\"answer\\\": \\\"Supervised learning\\\"\\n        },\\n        {\\n            \\\"question\\\": \\\"What is the term for learning without a teacher in the field of artificial intelligence?\\\",\\n            \\\"options\\\": [\\\"Supervised learning\\\", \\\"Reinforcement learning\\\", \\\"Unsupervised learning\\\", \\\"Semi-supervised learning\\\"],\\n            \\\"answer\\\": \\\"Unsupervised learning\\\"\\n        },\\n        {\\n            \\\"question\\\": \\\"In supervised learning, how do programs learn to distinguish right from wrong?\\\",\\n            \\\"options\\\": [\\\"By observing patterns\\\", \\\"Through trial and error\\\", \\\"By finding a teacher\\\", \\\"By analyzing sports rules\\\"],\\n            \\\"answer\\\": \\\"By using labeled data to tell them\\\"\\n        }\\n    ]\\n}\"\n",
       "      },\n",
       "      \"logprobs\": null,\n",
       "      \"finish_reason\": \"stop\"\n",
       "    }\n",
       "  ],\n",
       "  \"usage\": {\n",
       "    \"prompt_tokens\": 250,\n",
       "    \"completion_tokens\": 196,\n",
       "    \"total_tokens\": 446\n",
       "  },\n",
       "  \"system_fingerprint\": null\n",
       "}"
      ]
     },
     "execution_count": 24,
     "metadata": {},
     "output_type": "execute_result"
    }
   ],
   "source": [
    "response"
   ]
  },
  {
   "cell_type": "code",
   "execution_count": 31,
   "metadata": {},
   "outputs": [
    {
     "data": {
      "text/plain": [
       "{'questions': [{'question': 'What type of artificial intelligence has the series Crash Course AI primarily focused on?',\n",
       "   'options': ['Unsupervised learning',\n",
       "    'Reinforcement learning',\n",
       "    'Supervised learning',\n",
       "    'Semi-supervised learning'],\n",
       "   'answer': 'Supervised learning'},\n",
       "  {'question': 'What is the term for learning without a teacher in the field of artificial intelligence?',\n",
       "   'options': ['Supervised learning',\n",
       "    'Reinforcement learning',\n",
       "    'Unsupervised learning',\n",
       "    'Semi-supervised learning'],\n",
       "   'answer': 'Unsupervised learning'},\n",
       "  {'question': 'In supervised learning, how do programs learn to distinguish right from wrong?',\n",
       "   'options': ['By observing patterns',\n",
       "    'Through trial and error',\n",
       "    'By finding a teacher',\n",
       "    'By analyzing sports rules'],\n",
       "   'answer': 'By using labeled data to tell them'}]}"
      ]
     },
     "execution_count": 31,
     "metadata": {},
     "output_type": "execute_result"
    }
   ],
   "source": [
    "data = json.loads(reply)\n",
    "data"
   ]
  },
  {
   "cell_type": "code",
   "execution_count": 33,
   "metadata": {},
   "outputs": [],
   "source": [
    "def validate_questions(data):\n",
    "    # List to hold valid questions\n",
    "    valid_questions = []\n",
    "\n",
    "    for mcq in data['questions']:\n",
    "        question = mcq['question']\n",
    "        options = mcq['options']\n",
    "        answer = mcq['answer']\n",
    "        \n",
    "        if answer not in options:\n",
    "            # print(f'Mistake in {mcq}')\n",
    "            # omit this question\n",
    "            continue\n",
    "        else:\n",
    "            # If no mistake, add to the list of valid questions\n",
    "            valid_questions.append(mcq)\n",
    "\n",
    "    # Update the original data structure with only the valid questions\n",
    "    data['questions'] = valid_questions\n",
    "    new_reply = json.dumps(data)\n",
    "    return new_reply"
   ]
  },
  {
   "cell_type": "code",
   "execution_count": 35,
   "metadata": {},
   "outputs": [
    {
     "data": {
      "text/plain": [
       "{'questions': [{'question': 'What type of artificial intelligence has the series Crash Course AI primarily focused on?',\n",
       "   'options': ['Unsupervised learning',\n",
       "    'Reinforcement learning',\n",
       "    'Supervised learning',\n",
       "    'Semi-supervised learning'],\n",
       "   'answer': 'Supervised learning'},\n",
       "  {'question': 'What is the term for learning without a teacher in the field of artificial intelligence?',\n",
       "   'options': ['Supervised learning',\n",
       "    'Reinforcement learning',\n",
       "    'Unsupervised learning',\n",
       "    'Semi-supervised learning'],\n",
       "   'answer': 'Unsupervised learning'}]}"
      ]
     },
     "execution_count": 35,
     "metadata": {},
     "output_type": "execute_result"
    }
   ],
   "source": [
    "json.loads(validate_questions(data))"
   ]
  },
  {
   "cell_type": "code",
   "execution_count": 33,
   "metadata": {},
   "outputs": [
    {
     "name": "stdout",
     "output_type": "stream",
     "text": [
      "129\n"
     ]
    }
   ],
   "source": [
    "print(len(paragraph.split(' ')))"
   ]
  },
  {
   "cell_type": "code",
   "execution_count": 4,
   "metadata": {},
   "outputs": [
    {
     "data": {
      "text/plain": [
       "str"
      ]
     },
     "execution_count": 4,
     "metadata": {},
     "output_type": "execute_result"
    }
   ],
   "source": [
    "type(example_json)"
   ]
  },
  {
   "cell_type": "markdown",
   "metadata": {},
   "source": [
    "testing mcq generation for the whole transcript"
   ]
  },
  {
   "cell_type": "code",
   "execution_count": null,
   "metadata": {},
   "outputs": [],
   "source": [
    "def validate_questions(data):\n",
    "    # List to hold valid questions\n",
    "    valid_questions = []\n",
    "\n",
    "    for mcq in data['questions']:\n",
    "        question = mcq['question']\n",
    "        options = mcq['options']\n",
    "        answer = mcq['answer']\n",
    "        \n",
    "        if answer not in options:\n",
    "            # print(f'Mistake in {mcq}')\n",
    "            # omit this question\n",
    "            continue\n",
    "        else:\n",
    "            # If no mistake, add to the list of valid questions\n",
    "            valid_questions.append(mcq)\n",
    "\n",
    "    # Update the original data structure with only the valid questions\n",
    "    data['questions'] = valid_questions\n",
    "    new_reply = json.dumps(data)\n",
    "    return new_reply\n",
    "\n",
    "def get_mcq(paragraph: str):\n",
    "    example_json = {\n",
    "        \"questions\": [\n",
    "            {\n",
    "                \"question\": \"What type of artificial intelligence has the series Crash Course AI primarily focused on?\",\n",
    "                \"options\": [\n",
    "                    \"Unsupervised learning\",\n",
    "                    \"Reinforcement learning\",\n",
    "                    \"Supervised learning\",\n",
    "                    \"Semi-supervised learning\"\n",
    "                ],\n",
    "                \"answer\": \"Supervised learning\"\n",
    "            }\n",
    "        ]\n",
    "    }\n",
    "\n",
    "    response = openai.ChatCompletion.create(\n",
    "        model=\"gpt-3.5-turbo-0125\",\n",
    "\n",
    "        messages=[\n",
    "            # {\"role\": \"system\", \"content\": \"You are a helpful assistant designed to generate technical/logical MCQs from a paragraph and output JSON.\"},\n",
    "            {\"role\": \"system\", \"content\": f\"Provide output in valid JSON. The data schema should be like this: {json.dumps(example_json)}\"},\n",
    "            {\"role\": \"user\", \"content\": f\"Generate technical/logical MCQs from the given paragraph and output JSON. Paragraph: {paragraph}\"}\n",
    "        ],\n",
    "\n",
    "        response_format = {\"type\": \"json_object\"}\n",
    "    )\n",
    "\n",
    "\n",
    "    reply = response['choices'][0]['message']['content']\n",
    "    finish_reason = response['choices'][0]['finish_reason']\n",
    "    \n",
    "    if not finish_reason == \"stop\":\n",
    "        print('An error occured')\n",
    "        return None\n",
    "    \n",
    "    return validate_questions(json.loads(reply))"
   ]
  },
  {
   "cell_type": "code",
   "execution_count": 1,
   "metadata": {},
   "outputs": [
    {
     "ename": "ModuleNotFoundError",
     "evalue": "No module named 'pydantic'",
     "output_type": "error",
     "traceback": [
      "\u001b[0;31m---------------------------------------------------------------------------\u001b[0m",
      "\u001b[0;31mModuleNotFoundError\u001b[0m                       Traceback (most recent call last)",
      "Cell \u001b[0;32mIn[1], line 1\u001b[0m\n\u001b[0;32m----> 1\u001b[0m \u001b[38;5;28;01mfrom\u001b[39;00m \u001b[38;5;21;01mutils\u001b[39;00m \u001b[38;5;28;01mimport\u001b[39;00m final_transcript\n\u001b[1;32m      3\u001b[0m mcqs \u001b[38;5;241m=\u001b[39m []\n\u001b[1;32m      4\u001b[0m \u001b[38;5;28;01mfor\u001b[39;00m paragraph \u001b[38;5;129;01min\u001b[39;00m \u001b[38;5;28mstr\u001b[39m(final_transcript())\u001b[38;5;241m.\u001b[39msplit(\u001b[38;5;124m'\u001b[39m\u001b[38;5;130;01m\\n\u001b[39;00m\u001b[38;5;130;01m\\t\u001b[39;00m\u001b[38;5;124m'\u001b[39m):\n",
      "File \u001b[0;32m~/Documents/GitHub/Seekho/Seekho AI/v2/Playground/utils.py:3\u001b[0m\n\u001b[1;32m      1\u001b[0m \u001b[38;5;28;01mimport\u001b[39;00m \u001b[38;5;21;01mjson\u001b[39;00m\n\u001b[1;32m      2\u001b[0m \u001b[38;5;28;01mimport\u001b[39;00m \u001b[38;5;21;01mrequests\u001b[39;00m\n\u001b[0;32m----> 3\u001b[0m \u001b[38;5;28;01mfrom\u001b[39;00m \u001b[38;5;21;01mpydantic\u001b[39;00m \u001b[38;5;28;01mimport\u001b[39;00m BaseModel\n\u001b[1;32m      4\u001b[0m \u001b[38;5;28;01mimport\u001b[39;00m \u001b[38;5;21;01mos\u001b[39;00m\n\u001b[1;32m      5\u001b[0m \u001b[38;5;28;01mimport\u001b[39;00m \u001b[38;5;21;01mopenai\u001b[39;00m\n",
      "\u001b[0;31mModuleNotFoundError\u001b[0m: No module named 'pydantic'"
     ]
    }
   ],
   "source": [
    "from utils import final_transcript\n",
    "\n",
    "mcqs = []\n",
    "for paragraph in str(final_transcript()).split('\\n\\t'):\n",
    "    mcq = get_mcq(paragraph)\n",
    "    mcqs.append(mcq)"
   ]
  },
  {
   "cell_type": "code",
   "execution_count": 2,
   "metadata": {},
   "outputs": [
    {
     "ename": "NameError",
     "evalue": "name 'json' is not defined",
     "output_type": "error",
     "traceback": [
      "\u001b[0;31m---------------------------------------------------------------------------\u001b[0m",
      "\u001b[0;31mNameError\u001b[0m                                 Traceback (most recent call last)",
      "Cell \u001b[0;32mIn[2], line 1\u001b[0m\n\u001b[0;32m----> 1\u001b[0m \u001b[43mjson\u001b[49m\u001b[38;5;241m.\u001b[39mdumps(mcqs)\n",
      "\u001b[0;31mNameError\u001b[0m: name 'json' is not defined"
     ]
    }
   ],
   "source": [
    "json.dumps(mcqs)"
   ]
  },
  {
   "cell_type": "code",
   "execution_count": null,
   "metadata": {},
   "outputs": [],
   "source": []
  }
 ],
 "metadata": {
  "kernelspec": {
   "display_name": ".venv",
   "language": "python",
   "name": "python3"
  },
  "language_info": {
   "codemirror_mode": {
    "name": "ipython",
    "version": 3
   },
   "file_extension": ".py",
   "mimetype": "text/x-python",
   "name": "python",
   "nbconvert_exporter": "python",
   "pygments_lexer": "ipython3",
   "version": "3.12.3"
  }
 },
 "nbformat": 4,
 "nbformat_minor": 2
}
